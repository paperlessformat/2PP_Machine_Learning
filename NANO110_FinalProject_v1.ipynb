{
  "cells": [
    {
      "cell_type": "code",
      "execution_count": null,
      "metadata": {
        "id": "9EbY-pk8j6is",
        "outputId": "09abc81e-bef9-4a97-fb77-c229cb75f4bd"
      },
      "outputs": [
        {
          "name": "stderr",
          "output_type": "stream",
          "text": [
            "Retrieving SummaryDoc documents: 100%|██████████| 765/765 [00:00<?, ?it/s]\n"
          ]
        },
        {
          "data": {
            "text/html": [
              "<div>\n",
              "<style scoped>\n",
              "    .dataframe tbody tr th:only-of-type {\n",
              "        vertical-align: middle;\n",
              "    }\n",
              "\n",
              "    .dataframe tbody tr th {\n",
              "        vertical-align: top;\n",
              "    }\n",
              "\n",
              "    .dataframe thead th {\n",
              "        text-align: right;\n",
              "    }\n",
              "</style>\n",
              "<table border=\"1\" class=\"dataframe\">\n",
              "  <thead>\n",
              "    <tr style=\"text-align: right;\">\n",
              "      <th></th>\n",
              "      <th>formula_pretty</th>\n",
              "      <th>material_id</th>\n",
              "      <th>formation_energy_per_atom</th>\n",
              "      <th>efermi</th>\n",
              "      <th>is_metal</th>\n",
              "    </tr>\n",
              "  </thead>\n",
              "  <tbody>\n",
              "    <tr>\n",
              "      <th>0</th>\n",
              "      <td>O2</td>\n",
              "      <td>mp-560602</td>\n",
              "      <td>0.411299</td>\n",
              "      <td>-3.090720</td>\n",
              "      <td>False</td>\n",
              "    </tr>\n",
              "    <tr>\n",
              "      <th>1</th>\n",
              "      <td>Ba</td>\n",
              "      <td>mp-10679</td>\n",
              "      <td>0.013000</td>\n",
              "      <td>1.551616</td>\n",
              "      <td>True</td>\n",
              "    </tr>\n",
              "    <tr>\n",
              "      <th>2</th>\n",
              "      <td>Sr</td>\n",
              "      <td>mp-867202</td>\n",
              "      <td>0.007936</td>\n",
              "      <td>1.626267</td>\n",
              "      <td>True</td>\n",
              "    </tr>\n",
              "    <tr>\n",
              "      <th>3</th>\n",
              "      <td>Si</td>\n",
              "      <td>mp-1001113</td>\n",
              "      <td>0.489824</td>\n",
              "      <td>9.541308</td>\n",
              "      <td>True</td>\n",
              "    </tr>\n",
              "    <tr>\n",
              "      <th>4</th>\n",
              "      <td>Si</td>\n",
              "      <td>mp-16220</td>\n",
              "      <td>0.339448</td>\n",
              "      <td>4.097343</td>\n",
              "      <td>False</td>\n",
              "    </tr>\n",
              "  </tbody>\n",
              "</table>\n",
              "</div>"
            ],
            "text/plain": [
              "  formula_pretty material_id  formation_energy_per_atom    efermi  is_metal\n",
              "0             O2   mp-560602                   0.411299 -3.090720     False\n",
              "1             Ba    mp-10679                   0.013000  1.551616      True\n",
              "2             Sr   mp-867202                   0.007936  1.626267      True\n",
              "3             Si  mp-1001113                   0.489824  9.541308      True\n",
              "4             Si    mp-16220                   0.339448  4.097343     False"
            ]
          },
          "execution_count": 5,
          "metadata": {},
          "output_type": "execute_result"
        }
      ],
      "source": [
        "#Hello\n",
        "import pandas as pd\n",
        "from pymatgen.ext.matproj import MPRester\n",
        "import seaborn as sns\n",
        "import matplotlib.pyplot as plt\n",
        "import matplotlib as mpl\n",
        "#Matt rules, Mai drools, Niki's cool :)\n",
        "#notes here\n",
        "rcparams = {\n",
        "\"legend.fontsize\": 20,\n",
        "\"figure.figsize\": (12, 8),\n",
        "\"axes.labelsize\": 24,\n",
        "\"axes.titlesize\": 28,\n",
        "\"xtick.labelsize\": 20,\n",
        "\"ytick.labelsize\": 20,\n",
        "}\n",
        "sns.set(rc=rcparams)\n",
        "mpl.rcParams.update(rcparams)\n",
        "%matplotlib inline\n",
        "# This sets the inline figures to high resolution for Retina display...\n",
        "%config InlineBackend.figure_format ='retina'\n",
        "mpdata = mpr.summary.search(\n",
        "formula=[\"*\"],\n",
        "fields=[\n",
        "    'material_id',\n",
        "    'formula_pretty',\n",
        "    'band gap',\n",
        "    'efermi',\n",
        "    'formation_energy_per_atom',\n",
        "    'is_metal',\n",
        "])\n",
        "\n",
        "mpdf = pd.DataFrame([d.dict() for d in mpdata])\n",
        "mpdf.drop(columns=[\"fields_not_requested\"], inplace=True)\n",
        "mpdf.head()"
      ]
    },
    {
      "cell_type": "code",
      "execution_count": null,
      "metadata": {
        "id": "0zxyavOaj6iw",
        "outputId": "7c94d63e-63b1-45f0-af19-0233e36b5f74"
      },
      "outputs": [
        {
          "data": {
            "text/html": [
              "<div>\n",
              "<style scoped>\n",
              "    .dataframe tbody tr th:only-of-type {\n",
              "        vertical-align: middle;\n",
              "    }\n",
              "\n",
              "    .dataframe tbody tr th {\n",
              "        vertical-align: top;\n",
              "    }\n",
              "\n",
              "    .dataframe thead th {\n",
              "        text-align: right;\n",
              "    }\n",
              "</style>\n",
              "<table border=\"1\" class=\"dataframe\">\n",
              "  <thead>\n",
              "    <tr style=\"text-align: right;\">\n",
              "      <th></th>\n",
              "      <th>formula_pretty</th>\n",
              "      <th>material_id</th>\n",
              "      <th>formation_energy_per_atom</th>\n",
              "      <th>efermi</th>\n",
              "      <th>is_metal</th>\n",
              "    </tr>\n",
              "  </thead>\n",
              "  <tbody>\n",
              "    <tr>\n",
              "      <th>0</th>\n",
              "      <td>O2</td>\n",
              "      <td>mp-560602</td>\n",
              "      <td>0.411299</td>\n",
              "      <td>-3.090720</td>\n",
              "      <td>True</td>\n",
              "    </tr>\n",
              "    <tr>\n",
              "      <th>1</th>\n",
              "      <td>Ba</td>\n",
              "      <td>mp-10679</td>\n",
              "      <td>0.013000</td>\n",
              "      <td>1.551616</td>\n",
              "      <td>True</td>\n",
              "    </tr>\n",
              "    <tr>\n",
              "      <th>2</th>\n",
              "      <td>Sr</td>\n",
              "      <td>mp-867202</td>\n",
              "      <td>0.007936</td>\n",
              "      <td>1.626267</td>\n",
              "      <td>True</td>\n",
              "    </tr>\n",
              "    <tr>\n",
              "      <th>3</th>\n",
              "      <td>Si</td>\n",
              "      <td>mp-1001113</td>\n",
              "      <td>0.489824</td>\n",
              "      <td>9.541308</td>\n",
              "      <td>True</td>\n",
              "    </tr>\n",
              "    <tr>\n",
              "      <th>4</th>\n",
              "      <td>Si</td>\n",
              "      <td>mp-16220</td>\n",
              "      <td>0.339448</td>\n",
              "      <td>4.097343</td>\n",
              "      <td>True</td>\n",
              "    </tr>\n",
              "    <tr>\n",
              "      <th>...</th>\n",
              "      <td>...</td>\n",
              "      <td>...</td>\n",
              "      <td>...</td>\n",
              "      <td>...</td>\n",
              "      <td>...</td>\n",
              "    </tr>\n",
              "    <tr>\n",
              "      <th>760</th>\n",
              "      <td>V</td>\n",
              "      <td>mp-8632</td>\n",
              "      <td>0.247140</td>\n",
              "      <td>6.026634</td>\n",
              "      <td>True</td>\n",
              "    </tr>\n",
              "    <tr>\n",
              "      <th>761</th>\n",
              "      <td>Cr</td>\n",
              "      <td>mp-8633</td>\n",
              "      <td>0.402526</td>\n",
              "      <td>6.525822</td>\n",
              "      <td>True</td>\n",
              "    </tr>\n",
              "    <tr>\n",
              "      <th>762</th>\n",
              "      <td>Cu</td>\n",
              "      <td>mp-989695</td>\n",
              "      <td>0.005766</td>\n",
              "      <td>6.873138</td>\n",
              "      <td>True</td>\n",
              "    </tr>\n",
              "    <tr>\n",
              "      <th>763</th>\n",
              "      <td>Bi</td>\n",
              "      <td>mp-1096851</td>\n",
              "      <td>0.099048</td>\n",
              "      <td>5.225113</td>\n",
              "      <td>True</td>\n",
              "    </tr>\n",
              "    <tr>\n",
              "      <th>764</th>\n",
              "      <td>K</td>\n",
              "      <td>mp-972981</td>\n",
              "      <td>0.008377</td>\n",
              "      <td>0.229170</td>\n",
              "      <td>True</td>\n",
              "    </tr>\n",
              "  </tbody>\n",
              "</table>\n",
              "<p>765 rows × 5 columns</p>\n",
              "</div>"
            ],
            "text/plain": [
              "    formula_pretty material_id  formation_energy_per_atom    efermi  is_metal\n",
              "0               O2   mp-560602                   0.411299 -3.090720      True\n",
              "1               Ba    mp-10679                   0.013000  1.551616      True\n",
              "2               Sr   mp-867202                   0.007936  1.626267      True\n",
              "3               Si  mp-1001113                   0.489824  9.541308      True\n",
              "4               Si    mp-16220                   0.339448  4.097343      True\n",
              "..             ...         ...                        ...       ...       ...\n",
              "760              V     mp-8632                   0.247140  6.026634      True\n",
              "761             Cr     mp-8633                   0.402526  6.525822      True\n",
              "762             Cu   mp-989695                   0.005766  6.873138      True\n",
              "763             Bi  mp-1096851                   0.099048  5.225113      True\n",
              "764              K   mp-972981                   0.008377  0.229170      True\n",
              "\n",
              "[765 rows x 5 columns]"
            ]
          },
          "metadata": {},
          "output_type": "display_data"
        }
      ],
      "source": [
        "mpdf_metal = mpdf[(mpdf['is_metal'] == True)]\n",
        "#orig_neg = orig_temp2[(orig_temp2[\"formation_energy_per_atom\"] <= 0)]\n",
        "display(mpdf_metal)"
      ]
    },
    {
      "cell_type": "code",
      "execution_count": null,
      "metadata": {
        "id": "WmKL4xyrj6iw"
      },
      "outputs": [],
      "source": [
        "mpdf_metal.to_csv('nano110_finalproject_df')"
      ]
    },
    {
      "cell_type": "code",
      "execution_count": null,
      "metadata": {
        "id": "B6Qsz8l_j6ix",
        "outputId": "fe8677c9-b047-4bbc-89fb-1bb506d596eb"
      },
      "outputs": [
        {
          "name": "stdout",
          "output_type": "stream",
          "text": [
            "['builder_meta', 'nsites', 'elements', 'nelements', 'composition', 'composition_reduced', 'formula_pretty', 'formula_anonymous', 'chemsys', 'volume', 'density', 'density_atomic', 'symmetry', 'property_name', 'material_id', 'deprecated', 'deprecation_reasons', 'last_updated', 'origins', 'warnings', 'structure', 'task_ids', 'uncorrected_energy_per_atom', 'energy_per_atom', 'formation_energy_per_atom', 'energy_above_hull', 'is_stable', 'equilibrium_reaction_energy_per_atom', 'decomposes_to', 'xas', 'grain_boundaries', 'band_gap', 'cbm', 'vbm', 'efermi', 'is_gap_direct', 'is_metal', 'es_source_calc_id', 'bandstructure', 'dos', 'dos_energy_up', 'dos_energy_down', 'is_magnetic', 'ordering', 'total_magnetization', 'total_magnetization_normalized_vol', 'total_magnetization_normalized_formula_units', 'num_magnetic_sites', 'num_unique_magnetic_sites', 'types_of_magnetic_species', 'k_voigt', 'k_reuss', 'k_vrh', 'g_voigt', 'g_reuss', 'g_vrh', 'universal_anisotropy', 'homogeneous_poisson', 'e_total', 'e_ionic', 'e_electronic', 'n', 'e_ij_max', 'weighted_surface_energy_EV_PER_ANG2', 'weighted_surface_energy', 'weighted_work_function', 'surface_anisotropy', 'shape_factor', 'has_reconstructed', 'possible_species', 'has_props', 'theoretical', 'database_IDs']\n"
          ]
        }
      ],
      "source": [
        "list_of_available_fields = mpr.summary.available_fields\n",
        "print(list_of_available_fields)"
      ]
    }
  ],
  "metadata": {
    "colab": {
      "provenance": []
    },
    "kernelspec": {
      "display_name": "Python 3.10.7 64-bit",
      "language": "python",
      "name": "python3"
    },
    "language_info": {
      "codemirror_mode": {
        "name": "ipython",
        "version": 3
      },
      "file_extension": ".py",
      "mimetype": "text/x-python",
      "name": "python",
      "nbconvert_exporter": "python",
      "pygments_lexer": "ipython3",
      "version": "3.10.7"
    },
    "orig_nbformat": 4,
    "vscode": {
      "interpreter": {
        "hash": "26de051ba29f2982a8de78e945f0abaf191376122a1563185a90213a26c5da77"
      }
    }
  },
  "nbformat": 4,
  "nbformat_minor": 0
}
