{
  "cells": [
    {
      "cell_type": "code",
      "execution_count": 2,
      "metadata": {
        "id": "9EbY-pk8j6is",
        "outputId": "09abc81e-bef9-4a97-fb77-c229cb75f4bd"
      },
      "outputs": [
        {
          "ename": "ValueError",
          "evalue": "numpy.ndarray size changed, may indicate binary incompatibility. Expected 96 from C header, got 88 from PyObject",
          "output_type": "error",
          "traceback": [
            "\u001b[1;31m---------------------------------------------------------------------------\u001b[0m",
            "\u001b[1;31mValueError\u001b[0m                                Traceback (most recent call last)",
            "\u001b[1;32mc:\\Users\\2018m\\Dropbox\\My PC (LAPTOP-39IF0JUI)\\Desktop\\2PP_Machine_Learning\\NANO110_FinalProject_v1.ipynb Cell 1\u001b[0m in \u001b[0;36m<cell line: 3>\u001b[1;34m()\u001b[0m\n\u001b[0;32m      <a href='vscode-notebook-cell:/c%3A/Users/2018m/Dropbox/My%20PC%20%28LAPTOP-39IF0JUI%29/Desktop/2PP_Machine_Learning/NANO110_FinalProject_v1.ipynb#W0sZmlsZQ%3D%3D?line=0'>1</a>\u001b[0m \u001b[39m#Hello\u001b[39;00m\n\u001b[0;32m      <a href='vscode-notebook-cell:/c%3A/Users/2018m/Dropbox/My%20PC%20%28LAPTOP-39IF0JUI%29/Desktop/2PP_Machine_Learning/NANO110_FinalProject_v1.ipynb#W0sZmlsZQ%3D%3D?line=1'>2</a>\u001b[0m \u001b[39mimport\u001b[39;00m \u001b[39mpandas\u001b[39;00m \u001b[39mas\u001b[39;00m \u001b[39mpd\u001b[39;00m\n\u001b[1;32m----> <a href='vscode-notebook-cell:/c%3A/Users/2018m/Dropbox/My%20PC%20%28LAPTOP-39IF0JUI%29/Desktop/2PP_Machine_Learning/NANO110_FinalProject_v1.ipynb#W0sZmlsZQ%3D%3D?line=2'>3</a>\u001b[0m \u001b[39mfrom\u001b[39;00m \u001b[39mpymatgen\u001b[39;00m\u001b[39m.\u001b[39;00m\u001b[39mext\u001b[39;00m\u001b[39m.\u001b[39;00m\u001b[39mmatproj\u001b[39;00m \u001b[39mimport\u001b[39;00m MPRester\n\u001b[0;32m      <a href='vscode-notebook-cell:/c%3A/Users/2018m/Dropbox/My%20PC%20%28LAPTOP-39IF0JUI%29/Desktop/2PP_Machine_Learning/NANO110_FinalProject_v1.ipynb#W0sZmlsZQ%3D%3D?line=3'>4</a>\u001b[0m \u001b[39mimport\u001b[39;00m \u001b[39mseaborn\u001b[39;00m \u001b[39mas\u001b[39;00m \u001b[39msns\u001b[39;00m\n\u001b[0;32m      <a href='vscode-notebook-cell:/c%3A/Users/2018m/Dropbox/My%20PC%20%28LAPTOP-39IF0JUI%29/Desktop/2PP_Machine_Learning/NANO110_FinalProject_v1.ipynb#W0sZmlsZQ%3D%3D?line=4'>5</a>\u001b[0m \u001b[39mimport\u001b[39;00m \u001b[39mmatplotlib\u001b[39;00m\u001b[39m.\u001b[39;00m\u001b[39mpyplot\u001b[39;00m \u001b[39mas\u001b[39;00m \u001b[39mplt\u001b[39;00m\n",
            "File \u001b[1;32mc:\\Users\\2018m\\anaconda3\\lib\\site-packages\\pymatgen\\ext\\matproj.py:31\u001b[0m, in \u001b[0;36m<module>\u001b[1;34m\u001b[0m\n\u001b[0;32m     29\u001b[0m \u001b[39mimport\u001b[39;00m \u001b[39mrequests\u001b[39;00m\n\u001b[0;32m     30\u001b[0m \u001b[39mfrom\u001b[39;00m \u001b[39mmonty\u001b[39;00m\u001b[39m.\u001b[39;00m\u001b[39mjson\u001b[39;00m \u001b[39mimport\u001b[39;00m MontyDecoder, MontyEncoder\n\u001b[1;32m---> 31\u001b[0m \u001b[39mfrom\u001b[39;00m \u001b[39mmp_api\u001b[39;00m\u001b[39m.\u001b[39;00m\u001b[39mclient\u001b[39;00m \u001b[39mimport\u001b[39;00m MPRester \u001b[39mas\u001b[39;00m _MPResterNew\n\u001b[0;32m     32\u001b[0m \u001b[39mfrom\u001b[39;00m \u001b[39mruamel\u001b[39;00m\u001b[39m.\u001b[39;00m\u001b[39myaml\u001b[39;00m \u001b[39mimport\u001b[39;00m YAML\n\u001b[0;32m     33\u001b[0m \u001b[39mfrom\u001b[39;00m \u001b[39mtqdm\u001b[39;00m \u001b[39mimport\u001b[39;00m tqdm\n",
            "File \u001b[1;32mc:\\Users\\2018m\\anaconda3\\lib\\site-packages\\mp_api\\client\\__init__.py:4\u001b[0m, in \u001b[0;36m<module>\u001b[1;34m\u001b[0m\n\u001b[0;32m      2\u001b[0m \u001b[39mimport\u001b[39;00m \u001b[39mos\u001b[39;00m\n\u001b[0;32m      3\u001b[0m \u001b[39mfrom\u001b[39;00m \u001b[39mpkg_resources\u001b[39;00m \u001b[39mimport\u001b[39;00m get_distribution, DistributionNotFound\n\u001b[1;32m----> 4\u001b[0m \u001b[39mfrom\u001b[39;00m \u001b[39m.\u001b[39;00m\u001b[39mmprester\u001b[39;00m \u001b[39mimport\u001b[39;00m MPRester\n\u001b[0;32m      5\u001b[0m \u001b[39mfrom\u001b[39;00m \u001b[39m.\u001b[39;00m\u001b[39mcore\u001b[39;00m \u001b[39mimport\u001b[39;00m MPRestError\n\u001b[0;32m      7\u001b[0m \u001b[39mtry\u001b[39;00m:  \u001b[39m# pragma: no cover\u001b[39;00m\n",
            "File \u001b[1;32mc:\\Users\\2018m\\anaconda3\\lib\\site-packages\\mp_api\\client\\mprester.py:9\u001b[0m, in \u001b[0;36m<module>\u001b[1;34m\u001b[0m\n\u001b[0;32m      6\u001b[0m \u001b[39mfrom\u001b[39;00m \u001b[39mjson\u001b[39;00m \u001b[39mimport\u001b[39;00m loads\n\u001b[0;32m      8\u001b[0m \u001b[39mfrom\u001b[39;00m \u001b[39memmet\u001b[39;00m\u001b[39m.\u001b[39;00m\u001b[39mcore\u001b[39;00m\u001b[39m.\u001b[39;00m\u001b[39mcharge_density\u001b[39;00m \u001b[39mimport\u001b[39;00m ChgcarDataDoc\n\u001b[1;32m----> 9\u001b[0m \u001b[39mfrom\u001b[39;00m \u001b[39memmet\u001b[39;00m\u001b[39m.\u001b[39;00m\u001b[39mcore\u001b[39;00m\u001b[39m.\u001b[39;00m\u001b[39melectronic_structure\u001b[39;00m \u001b[39mimport\u001b[39;00m BSPathType\n\u001b[0;32m     10\u001b[0m \u001b[39mfrom\u001b[39;00m \u001b[39memmet\u001b[39;00m\u001b[39m.\u001b[39;00m\u001b[39mcore\u001b[39;00m\u001b[39m.\u001b[39;00m\u001b[39mmpid\u001b[39;00m \u001b[39mimport\u001b[39;00m MPID\n\u001b[0;32m     11\u001b[0m \u001b[39mfrom\u001b[39;00m \u001b[39memmet\u001b[39;00m\u001b[39m.\u001b[39;00m\u001b[39mcore\u001b[39;00m\u001b[39m.\u001b[39;00m\u001b[39msettings\u001b[39;00m \u001b[39mimport\u001b[39;00m EmmetSettings\n",
            "File \u001b[1;32mc:\\Users\\2018m\\anaconda3\\lib\\site-packages\\emmet\\core\\electronic_structure.py:11\u001b[0m, in \u001b[0;36m<module>\u001b[1;34m\u001b[0m\n\u001b[0;32m      9\u001b[0m \u001b[39mimport\u001b[39;00m \u001b[39mnumpy\u001b[39;00m \u001b[39mas\u001b[39;00m \u001b[39mnp\u001b[39;00m\n\u001b[0;32m     10\u001b[0m \u001b[39mfrom\u001b[39;00m \u001b[39mpydantic\u001b[39;00m \u001b[39mimport\u001b[39;00m BaseModel, Field\n\u001b[1;32m---> 11\u001b[0m \u001b[39mfrom\u001b[39;00m \u001b[39mpymatgen\u001b[39;00m\u001b[39m.\u001b[39;00m\u001b[39manalysis\u001b[39;00m\u001b[39m.\u001b[39;00m\u001b[39mmagnetism\u001b[39;00m\u001b[39m.\u001b[39;00m\u001b[39manalyzer\u001b[39;00m \u001b[39mimport\u001b[39;00m (\n\u001b[0;32m     12\u001b[0m     CollinearMagneticStructureAnalyzer,\n\u001b[0;32m     13\u001b[0m     Ordering,\n\u001b[0;32m     14\u001b[0m )\n\u001b[0;32m     15\u001b[0m \u001b[39mfrom\u001b[39;00m \u001b[39mpymatgen\u001b[39;00m\u001b[39m.\u001b[39;00m\u001b[39mcore\u001b[39;00m \u001b[39mimport\u001b[39;00m Structure\n\u001b[0;32m     16\u001b[0m \u001b[39mfrom\u001b[39;00m \u001b[39mpymatgen\u001b[39;00m\u001b[39m.\u001b[39;00m\u001b[39mcore\u001b[39;00m\u001b[39m.\u001b[39;00m\u001b[39mperiodic_table\u001b[39;00m \u001b[39mimport\u001b[39;00m Element\n",
            "File \u001b[1;32mc:\\Users\\2018m\\anaconda3\\lib\\site-packages\\pymatgen\\analysis\\magnetism\\__init__.py:8\u001b[0m, in \u001b[0;36m<module>\u001b[1;34m\u001b[0m\n\u001b[0;32m      1\u001b[0m \u001b[39m# Copyright (c) Pymatgen Development Team.\u001b[39;00m\n\u001b[0;32m      2\u001b[0m \u001b[39m# Distributed under the terms of the MIT License.\u001b[39;00m\n\u001b[0;32m      4\u001b[0m \u001b[39m\"\"\"\u001b[39;00m\n\u001b[0;32m      5\u001b[0m \u001b[39mPackage for analysis of magnetic structures.\u001b[39;00m\n\u001b[0;32m      6\u001b[0m \u001b[39m\"\"\"\u001b[39;00m\n\u001b[1;32m----> 8\u001b[0m \u001b[39mfrom\u001b[39;00m \u001b[39mpymatgen\u001b[39;00m\u001b[39m.\u001b[39;00m\u001b[39manalysis\u001b[39;00m\u001b[39m.\u001b[39;00m\u001b[39mmagnetism\u001b[39;00m\u001b[39m.\u001b[39;00m\u001b[39manalyzer\u001b[39;00m \u001b[39mimport\u001b[39;00m (\n\u001b[0;32m      9\u001b[0m     CollinearMagneticStructureAnalyzer,\n\u001b[0;32m     10\u001b[0m     MagneticStructureEnumerator,\n\u001b[0;32m     11\u001b[0m     Ordering,\n\u001b[0;32m     12\u001b[0m     OverwriteMagmomMode,\n\u001b[0;32m     13\u001b[0m     magnetic_deformation,\n\u001b[0;32m     14\u001b[0m )\n",
            "File \u001b[1;32mc:\\Users\\2018m\\anaconda3\\lib\\site-packages\\pymatgen\\analysis\\magnetism\\analyzer.py:23\u001b[0m, in \u001b[0;36m<module>\u001b[1;34m\u001b[0m\n\u001b[0;32m     20\u001b[0m \u001b[39mfrom\u001b[39;00m \u001b[39mscipy\u001b[39;00m\u001b[39m.\u001b[39;00m\u001b[39msignal\u001b[39;00m \u001b[39mimport\u001b[39;00m argrelextrema\n\u001b[0;32m     21\u001b[0m \u001b[39mfrom\u001b[39;00m \u001b[39mscipy\u001b[39;00m\u001b[39m.\u001b[39;00m\u001b[39mstats\u001b[39;00m \u001b[39mimport\u001b[39;00m gaussian_kde\n\u001b[1;32m---> 23\u001b[0m \u001b[39mfrom\u001b[39;00m \u001b[39mpymatgen\u001b[39;00m\u001b[39m.\u001b[39;00m\u001b[39mcore\u001b[39;00m\u001b[39m.\u001b[39;00m\u001b[39mstructure\u001b[39;00m \u001b[39mimport\u001b[39;00m DummySpecies, Element, Species, Structure\n\u001b[0;32m     24\u001b[0m \u001b[39mfrom\u001b[39;00m \u001b[39mpymatgen\u001b[39;00m\u001b[39m.\u001b[39;00m\u001b[39melectronic_structure\u001b[39;00m\u001b[39m.\u001b[39;00m\u001b[39mcore\u001b[39;00m \u001b[39mimport\u001b[39;00m Magmom\n\u001b[0;32m     25\u001b[0m \u001b[39mfrom\u001b[39;00m \u001b[39mpymatgen\u001b[39;00m\u001b[39m.\u001b[39;00m\u001b[39msymmetry\u001b[39;00m\u001b[39m.\u001b[39;00m\u001b[39manalyzer\u001b[39;00m \u001b[39mimport\u001b[39;00m SpacegroupAnalyzer\n",
            "File \u001b[1;32mc:\\Users\\2018m\\anaconda3\\lib\\site-packages\\pymatgen\\core\\__init__.py:18\u001b[0m, in \u001b[0;36m<module>\u001b[1;34m\u001b[0m\n\u001b[0;32m     15\u001b[0m \u001b[39mfrom\u001b[39;00m \u001b[39mruamel\u001b[39;00m\u001b[39m.\u001b[39;00m\u001b[39myaml\u001b[39;00m \u001b[39mimport\u001b[39;00m YAML\n\u001b[0;32m     17\u001b[0m \u001b[39mfrom\u001b[39;00m \u001b[39m.\u001b[39;00m\u001b[39mcomposition\u001b[39;00m \u001b[39mimport\u001b[39;00m Composition \u001b[39mas\u001b[39;00m Composition\n\u001b[1;32m---> 18\u001b[0m \u001b[39mfrom\u001b[39;00m \u001b[39m.\u001b[39;00m\u001b[39mlattice\u001b[39;00m \u001b[39mimport\u001b[39;00m Lattice \u001b[39mas\u001b[39;00m Lattice\n\u001b[0;32m     19\u001b[0m \u001b[39mfrom\u001b[39;00m \u001b[39m.\u001b[39;00m\u001b[39moperations\u001b[39;00m \u001b[39mimport\u001b[39;00m SymmOp \u001b[39mas\u001b[39;00m SymmOp\n\u001b[0;32m     20\u001b[0m \u001b[39mfrom\u001b[39;00m \u001b[39m.\u001b[39;00m\u001b[39mperiodic_table\u001b[39;00m \u001b[39mimport\u001b[39;00m DummySpecies \u001b[39mas\u001b[39;00m DummySpecies\n",
            "File \u001b[1;32mc:\\Users\\2018m\\anaconda3\\lib\\site-packages\\pymatgen\\core\\lattice.py:24\u001b[0m, in \u001b[0;36m<module>\u001b[1;34m\u001b[0m\n\u001b[0;32m     21\u001b[0m \u001b[39mfrom\u001b[39;00m \u001b[39mnumpy\u001b[39;00m \u001b[39mimport\u001b[39;00m dot, pi, transpose\n\u001b[0;32m     22\u001b[0m \u001b[39mfrom\u001b[39;00m \u001b[39mnumpy\u001b[39;00m\u001b[39m.\u001b[39;00m\u001b[39mlinalg\u001b[39;00m \u001b[39mimport\u001b[39;00m inv\n\u001b[1;32m---> 24\u001b[0m \u001b[39mfrom\u001b[39;00m \u001b[39mpymatgen\u001b[39;00m\u001b[39m.\u001b[39;00m\u001b[39mutil\u001b[39;00m\u001b[39m.\u001b[39;00m\u001b[39mcoord\u001b[39;00m \u001b[39mimport\u001b[39;00m pbc_shortest_vectors\n\u001b[0;32m     25\u001b[0m \u001b[39mfrom\u001b[39;00m \u001b[39mpymatgen\u001b[39;00m\u001b[39m.\u001b[39;00m\u001b[39mutil\u001b[39;00m\u001b[39m.\u001b[39;00m\u001b[39mnum\u001b[39;00m \u001b[39mimport\u001b[39;00m abs_cap\n\u001b[0;32m     26\u001b[0m \u001b[39mfrom\u001b[39;00m \u001b[39mpymatgen\u001b[39;00m\u001b[39m.\u001b[39;00m\u001b[39mutil\u001b[39;00m\u001b[39m.\u001b[39;00m\u001b[39mtyping\u001b[39;00m \u001b[39mimport\u001b[39;00m ArrayLike\n",
            "File \u001b[1;32mc:\\Users\\2018m\\anaconda3\\lib\\site-packages\\pymatgen\\util\\coord.py:18\u001b[0m, in \u001b[0;36m<module>\u001b[1;34m\u001b[0m\n\u001b[0;32m     15\u001b[0m \u001b[39mimport\u001b[39;00m \u001b[39mnumpy\u001b[39;00m \u001b[39mas\u001b[39;00m \u001b[39mnp\u001b[39;00m\n\u001b[0;32m     16\u001b[0m \u001b[39mfrom\u001b[39;00m \u001b[39mmonty\u001b[39;00m\u001b[39m.\u001b[39;00m\u001b[39mjson\u001b[39;00m \u001b[39mimport\u001b[39;00m MSONable\n\u001b[1;32m---> 18\u001b[0m \u001b[39mfrom\u001b[39;00m \u001b[39mpymatgen\u001b[39;00m\u001b[39m.\u001b[39;00m\u001b[39mutil\u001b[39;00m \u001b[39mimport\u001b[39;00m coord_cython \u001b[39mas\u001b[39;00m cuc\n\u001b[0;32m     20\u001b[0m \u001b[39mif\u001b[39;00m typing\u001b[39m.\u001b[39mTYPE_CHECKING:\n\u001b[0;32m     21\u001b[0m     \u001b[39mfrom\u001b[39;00m \u001b[39mpymatgen\u001b[39;00m\u001b[39m.\u001b[39;00m\u001b[39mutil\u001b[39;00m\u001b[39m.\u001b[39;00m\u001b[39mtyping\u001b[39;00m \u001b[39mimport\u001b[39;00m ArrayLike\n",
            "File \u001b[1;32mpymatgen\\util\\coord_cython.pyx:1\u001b[0m, in \u001b[0;36minit pymatgen.util.coord_cython\u001b[1;34m()\u001b[0m\n",
            "\u001b[1;31mValueError\u001b[0m: numpy.ndarray size changed, may indicate binary incompatibility. Expected 96 from C header, got 88 from PyObject"
          ]
        }
      ],
      "source": [
        "import pandas as pd\n",
        "from pymatgen.ext.matproj import MPRester\n",
        "import seaborn as sns\n",
        "import matplotlib.pyplot as plt\n",
        "import matplotlib as mpl\n",
        "\n",
        "rcparams = {\n",
        "\"legend.fontsize\": 20,\n",
        "\"figure.figsize\": (12, 8),\n",
        "\"axes.labelsize\": 24,\n",
        "\"axes.titlesize\": 28,\n",
        "\"xtick.labelsize\": 20,\n",
        "\"ytick.labelsize\": 20,\n",
        "}\n",
        "sns.set(rc=rcparams)\n",
        "mpl.rcParams.update(rcparams)\n",
        "%matplotlib inline\n",
        "# This sets the inline figures to high resolution for Retina display...\n",
        "%config InlineBackend.figure_format ='retina'\n",
        "mpdata = mpr.summary.search(\n",
        "formula=[\"*\"],\n",
        "fields=[\n",
        "    'material_id',\n",
        "    'formula_pretty',\n",
        "    'band gap',\n",
        "    'efermi',\n",
        "    'formation_energy_per_atom',\n",
        "    'is_metal',\n",
        "])\n",
        "\n",
        "mpdf = pd.DataFrame([d.dict() for d in mpdata])\n",
        "mpdf.drop(columns=[\"fields_not_requested\"], inplace=True)\n",
        "mpdf.head()"
      ]
    },
    {
      "cell_type": "code",
      "execution_count": 2,
      "metadata": {
        "id": "0zxyavOaj6iw",
        "outputId": "7c94d63e-63b1-45f0-af19-0233e36b5f74"
      },
      "outputs": [
        {
          "ename": "NameError",
          "evalue": "name 'mpdf' is not defined",
          "output_type": "error",
          "traceback": [
            "\u001b[1;31m---------------------------------------------------------------------------\u001b[0m",
            "\u001b[1;31mNameError\u001b[0m                                 Traceback (most recent call last)",
            "Cell \u001b[1;32mIn[2], line 1\u001b[0m\n\u001b[1;32m----> 1\u001b[0m mpdf_metal \u001b[39m=\u001b[39m mpdf[(mpdf[\u001b[39m'\u001b[39m\u001b[39mis_metal\u001b[39m\u001b[39m'\u001b[39m] \u001b[39m==\u001b[39m \u001b[39mTrue\u001b[39;00m)]\n\u001b[0;32m      2\u001b[0m \u001b[39m#orig_neg = orig_temp2[(orig_temp2[\"formation_energy_per_atom\"] <= 0)]\u001b[39;00m\n\u001b[0;32m      3\u001b[0m display(mpdf_metal)\n",
            "\u001b[1;31mNameError\u001b[0m: name 'mpdf' is not defined"
          ]
        }
      ],
      "source": [
        "mpdf_metal = mpdf[(mpdf['is_metal'] == True)]\n",
        "#orig_neg = orig_temp2[(orig_temp2[\"formation_energy_per_atom\"] <= 0)]\n",
        "display(mpdf_metal)"
      ]
    },
    {
      "cell_type": "code",
      "execution_count": null,
      "metadata": {
        "id": "WmKL4xyrj6iw"
      },
      "outputs": [],
      "source": [
        "mpdf_metal.to_csv('nano110_finalproject_df')"
      ]
    },
    {
      "cell_type": "code",
      "execution_count": null,
      "metadata": {
        "id": "B6Qsz8l_j6ix",
        "outputId": "fe8677c9-b047-4bbc-89fb-1bb506d596eb"
      },
      "outputs": [
        {
          "name": "stdout",
          "output_type": "stream",
          "text": [
            "['builder_meta', 'nsites', 'elements', 'nelements', 'composition', 'composition_reduced', 'formula_pretty', 'formula_anonymous', 'chemsys', 'volume', 'density', 'density_atomic', 'symmetry', 'property_name', 'material_id', 'deprecated', 'deprecation_reasons', 'last_updated', 'origins', 'warnings', 'structure', 'task_ids', 'uncorrected_energy_per_atom', 'energy_per_atom', 'formation_energy_per_atom', 'energy_above_hull', 'is_stable', 'equilibrium_reaction_energy_per_atom', 'decomposes_to', 'xas', 'grain_boundaries', 'band_gap', 'cbm', 'vbm', 'efermi', 'is_gap_direct', 'is_metal', 'es_source_calc_id', 'bandstructure', 'dos', 'dos_energy_up', 'dos_energy_down', 'is_magnetic', 'ordering', 'total_magnetization', 'total_magnetization_normalized_vol', 'total_magnetization_normalized_formula_units', 'num_magnetic_sites', 'num_unique_magnetic_sites', 'types_of_magnetic_species', 'k_voigt', 'k_reuss', 'k_vrh', 'g_voigt', 'g_reuss', 'g_vrh', 'universal_anisotropy', 'homogeneous_poisson', 'e_total', 'e_ionic', 'e_electronic', 'n', 'e_ij_max', 'weighted_surface_energy_EV_PER_ANG2', 'weighted_surface_energy', 'weighted_work_function', 'surface_anisotropy', 'shape_factor', 'has_reconstructed', 'possible_species', 'has_props', 'theoretical', 'database_IDs']\n"
          ]
        }
      ],
      "source": [
        "list_of_available_fields = mpr.summary.available_fields\n",
        "print(list_of_available_fields)"
      ]
    }
  ],
  "metadata": {
    "colab": {
      "provenance": []
    },
    "kernelspec": {
      "display_name": "Python 3.9.12 ('base')",
      "language": "python",
      "name": "python3"
    },
    "language_info": {
      "codemirror_mode": {
        "name": "ipython",
        "version": 3
      },
      "file_extension": ".py",
      "mimetype": "text/x-python",
      "name": "python",
      "nbconvert_exporter": "python",
      "pygments_lexer": "ipython3",
      "version": "3.9.12"
    },
    "orig_nbformat": 4,
    "vscode": {
      "interpreter": {
        "hash": "d7159f08a0046e92ab7b2f664efbd855138dbd1b453e3d9e799217ba0a8f457c"
      }
    }
  },
  "nbformat": 4,
  "nbformat_minor": 0
}
